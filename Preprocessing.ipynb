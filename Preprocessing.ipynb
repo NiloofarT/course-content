{
  "cells": [
    {
      "cell_type": "markdown",
      "metadata": {
        "id": "view-in-github",
        "colab_type": "text"
      },
      "source": [
        "<a href=\"https://colab.research.google.com/github/NiloofarT/course-content/blob/master/Preprocessing.ipynb\" target=\"_parent\"><img src=\"https://colab.research.google.com/assets/colab-badge.svg\" alt=\"Open In Colab\"/></a>"
      ]
    },
    {
      "cell_type": "code",
      "execution_count": null,
      "id": "3dfad11d",
      "metadata": {
        "id": "3dfad11d"
      },
      "outputs": [],
      "source": [
        "import os\n",
        "import mne\n",
        "import h5py\n",
        "import numpy as np\n",
        "import pandas as pd\n",
        "import matplotlib.pyplot as plt\n",
        "from sklearn.preprocessing import StandardScaler\n",
        "from sklearn.pipeline import make_pipeline\n",
        "from sklearn.svm import SVC\n",
        "from sklearn.model_selection import train_test_split\n",
        "from sklearn.metrics import accuracy_score\n",
        "from sklearn.metrics import recall_score\n",
        "from sklearn.model_selection import cross_val_score\n",
        "from sklearn.discriminant_analysis import LinearDiscriminantAnalysis\n",
        "from sklearn.model_selection import ShuffleSplit"
      ]
    },
    {
      "cell_type": "code",
      "execution_count": null,
      "id": "3e431f92",
      "metadata": {
        "id": "3e431f92"
      },
      "outputs": [],
      "source": [
        "BASE_ROOT = 'C:/Users/wsurx/PycharmProjects/EEG_PREPROCESS/Recording/'\n",
        "RECORDING_ROOT = os.path.join(BASE_ROOT,'EEG_DATA/')\n",
        "THINGS_EEG_ROOT = os.path.join(BASE_ROOT,'EEG_THINGS/')"
      ]
    },
    {
      "cell_type": "code",
      "execution_count": null,
      "id": "e79a6947",
      "metadata": {
        "id": "e79a6947"
      },
      "outputs": [],
      "source": [
        "N_SUBJECTS = 10"
      ]
    },
    {
      "cell_type": "code",
      "execution_count": null,
      "id": "4bdee2de",
      "metadata": {
        "id": "4bdee2de"
      },
      "outputs": [],
      "source": [
        "def get_data(concept):\n",
        "    first_concept = []\n",
        "    for sub_id in range(1, N_SUBJECTS + 1):\n",
        "        if sub_id == 6:\n",
        "            continue\n",
        "        sub_eeglab = mne.io.read_raw(os.path.join(RECORDING_ROOT, f'sub-{str(sub_id).zfill(2)}/eeg/sub-{str(sub_id).zfill(2)}_task-rsvp_eeg.vhdr'))\n",
        "        sub_event = mne.events_from_annotations(sub_eeglab)\n",
        "        sub_epoch = mne.Epochs(sub_eeglab, sub_event[0], tmin=-.1, tmax=1, baseline=(None, None))\n",
        "        sub_csv = pd.read_csv(os.path.join(RECORDING_ROOT, f'sub-{str(sub_id).zfill(2)}/eeg/sub-{str(sub_id).zfill(2)}_task-rsvp_events.csv'))\n",
        "        selected_events = sub_csv.where(sub_csv['object'] == concept).dropna()['eventnumber'].to_numpy().astype(int)\n",
        "        selected_epochs = sub_epoch['10001'][selected_events]\n",
        "        first_concept.append(selected_epochs.load_data().set_eeg_reference(ref_channels='average').filter(h_freq=150, l_freq=1).set_eeg_reference(ref_channels='average').get_data())\n",
        "    first_concept = np.array(first_concept)\n",
        "    return np.reshape(first_concept, (first_concept.shape[0] * first_concept.shape[1], first_concept.shape[2], first_concept.shape[3]))"
      ]
    },
    {
      "cell_type": "code",
      "execution_count": null,
      "id": "56167bc3",
      "metadata": {
        "id": "56167bc3",
        "outputId": "f2894c33-2100-4d76-b63a-69321f0fad3f"
      },
      "outputs": [
        {
          "name": "stdout",
          "output_type": "stream",
          "text": [
            "Extracting parameters from C:/Users/wsurx/PycharmProjects/EEG_PREPROCESS/Recording/EEG_DATA/sub-01/eeg/sub-01_task-rsvp_eeg.vhdr...\n",
            "Setting channel info structure...\n",
            "Used Annotations descriptions: ['Event/E  1', 'Event/E  2', 'Event/E  3', 'New Segment/']\n",
            "Not setting metadata\n",
            "Not setting metadata\n",
            "44569 matching events found\n",
            "Setting baseline interval to [-0.1, 1.0] sec\n",
            "Applying baseline correction (mode: mean)\n",
            "0 projection items activated\n",
            "Loading data for 12 events and 1101 original time points ...\n",
            "0 bad epochs dropped\n",
            "EEG channel type selected for re-referencing\n",
            "Applying average reference.\n",
            "Applying a custom ('EEG',) reference.\n",
            "Setting up band-pass filter from 1 - 1.5e+02 Hz\n",
            "\n",
            "FIR filter parameters\n",
            "---------------------\n",
            "Designing a one-pass, zero-phase, non-causal bandpass filter:\n",
            "- Windowed time-domain design (firwin) method\n",
            "- Hamming window with 0.0194 passband ripple and 53 dB stopband attenuation\n",
            "- Lower passband edge: 1.00\n",
            "- Lower transition bandwidth: 1.00 Hz (-6 dB cutoff frequency: 0.50 Hz)\n",
            "- Upper passband edge: 150.00 Hz\n",
            "- Upper transition bandwidth: 37.50 Hz (-6 dB cutoff frequency: 168.75 Hz)\n",
            "- Filter length: 3301 samples (3.301 sec)\n",
            "\n",
            "EEG channel type selected for re-referencing\n",
            "Applying average reference.\n",
            "Applying a custom ('EEG',) reference.\n",
            "Extracting parameters from C:/Users/wsurx/PycharmProjects/EEG_PREPROCESS/Recording/EEG_DATA/sub-01/eeg/sub-01_task-rsvp_eeg.vhdr...\n"
          ]
        },
        {
          "name": "stderr",
          "output_type": "stream",
          "text": [
            "C:\\Users\\wsurx\\AppData\\Local\\Temp/ipykernel_6840/1319060889.py:12: RuntimeWarning: filter_length (3301) is longer than the signal (1101), distortion is likely. Reduce filter length or filter a longer signal.\n",
            "  first_concept.append(selected_epochs.load_data().set_eeg_reference(ref_channels='average').filter(h_freq=150, l_freq=1).set_eeg_reference(ref_channels='average').get_data())\n"
          ]
        },
        {
          "name": "stdout",
          "output_type": "stream",
          "text": [
            "Setting channel info structure...\n",
            "Used Annotations descriptions: ['Event/E  1', 'Event/E  2', 'Event/E  3', 'New Segment/']\n",
            "Not setting metadata\n",
            "Not setting metadata\n",
            "44569 matching events found\n",
            "Setting baseline interval to [-0.1, 1.0] sec\n",
            "Applying baseline correction (mode: mean)\n",
            "0 projection items activated\n",
            "Loading data for 12 events and 1101 original time points ...\n",
            "0 bad epochs dropped\n",
            "EEG channel type selected for re-referencing\n",
            "Applying average reference.\n",
            "Applying a custom ('EEG',) reference.\n",
            "Setting up band-pass filter from 1 - 1.5e+02 Hz\n",
            "\n",
            "FIR filter parameters\n",
            "---------------------\n",
            "Designing a one-pass, zero-phase, non-causal bandpass filter:\n",
            "- Windowed time-domain design (firwin) method\n",
            "- Hamming window with 0.0194 passband ripple and 53 dB stopband attenuation\n",
            "- Lower passband edge: 1.00\n",
            "- Lower transition bandwidth: 1.00 Hz (-6 dB cutoff frequency: 0.50 Hz)\n",
            "- Upper passband edge: 150.00 Hz\n",
            "- Upper transition bandwidth: 37.50 Hz (-6 dB cutoff frequency: 168.75 Hz)\n",
            "- Filter length: 3301 samples (3.301 sec)\n",
            "\n",
            "EEG channel type selected for re-referencing\n",
            "Applying average reference.\n",
            "Applying a custom ('EEG',) reference.\n",
            "Extracting parameters from C:/Users/wsurx/PycharmProjects/EEG_PREPROCESS/Recording/EEG_DATA/sub-01/eeg/sub-01_task-rsvp_eeg.vhdr...\n"
          ]
        },
        {
          "name": "stderr",
          "output_type": "stream",
          "text": [
            "C:\\Users\\wsurx\\AppData\\Local\\Temp/ipykernel_6840/1319060889.py:12: RuntimeWarning: filter_length (3301) is longer than the signal (1101), distortion is likely. Reduce filter length or filter a longer signal.\n",
            "  first_concept.append(selected_epochs.load_data().set_eeg_reference(ref_channels='average').filter(h_freq=150, l_freq=1).set_eeg_reference(ref_channels='average').get_data())\n"
          ]
        },
        {
          "name": "stdout",
          "output_type": "stream",
          "text": [
            "Setting channel info structure...\n",
            "Used Annotations descriptions: ['Event/E  1', 'Event/E  2', 'Event/E  3', 'New Segment/']\n",
            "Not setting metadata\n",
            "Not setting metadata\n",
            "44569 matching events found\n",
            "Setting baseline interval to [-0.1, 1.0] sec\n",
            "Applying baseline correction (mode: mean)\n",
            "0 projection items activated\n",
            "Loading data for 12 events and 1101 original time points ...\n",
            "0 bad epochs dropped\n",
            "EEG channel type selected for re-referencing\n",
            "Applying average reference.\n",
            "Applying a custom ('EEG',) reference.\n",
            "Setting up band-pass filter from 1 - 1.5e+02 Hz\n",
            "\n",
            "FIR filter parameters\n",
            "---------------------\n",
            "Designing a one-pass, zero-phase, non-causal bandpass filter:\n",
            "- Windowed time-domain design (firwin) method\n",
            "- Hamming window with 0.0194 passband ripple and 53 dB stopband attenuation\n",
            "- Lower passband edge: 1.00\n",
            "- Lower transition bandwidth: 1.00 Hz (-6 dB cutoff frequency: 0.50 Hz)\n",
            "- Upper passband edge: 150.00 Hz\n",
            "- Upper transition bandwidth: 37.50 Hz (-6 dB cutoff frequency: 168.75 Hz)\n",
            "- Filter length: 3301 samples (3.301 sec)\n",
            "\n",
            "EEG channel type selected for re-referencing\n",
            "Applying average reference.\n",
            "Applying a custom ('EEG',) reference.\n",
            "Extracting parameters from C:/Users/wsurx/PycharmProjects/EEG_PREPROCESS/Recording/EEG_DATA/sub-01/eeg/sub-01_task-rsvp_eeg.vhdr...\n"
          ]
        },
        {
          "name": "stderr",
          "output_type": "stream",
          "text": [
            "C:\\Users\\wsurx\\AppData\\Local\\Temp/ipykernel_6840/1319060889.py:12: RuntimeWarning: filter_length (3301) is longer than the signal (1101), distortion is likely. Reduce filter length or filter a longer signal.\n",
            "  first_concept.append(selected_epochs.load_data().set_eeg_reference(ref_channels='average').filter(h_freq=150, l_freq=1).set_eeg_reference(ref_channels='average').get_data())\n"
          ]
        },
        {
          "name": "stdout",
          "output_type": "stream",
          "text": [
            "Setting channel info structure...\n",
            "Used Annotations descriptions: ['Event/E  1', 'Event/E  2', 'Event/E  3', 'New Segment/']\n",
            "Not setting metadata\n",
            "Not setting metadata\n",
            "44569 matching events found\n",
            "Setting baseline interval to [-0.1, 1.0] sec\n",
            "Applying baseline correction (mode: mean)\n",
            "0 projection items activated\n",
            "Loading data for 12 events and 1101 original time points ...\n",
            "0 bad epochs dropped\n",
            "EEG channel type selected for re-referencing\n",
            "Applying average reference.\n",
            "Applying a custom ('EEG',) reference.\n",
            "Setting up band-pass filter from 1 - 1.5e+02 Hz\n",
            "\n",
            "FIR filter parameters\n",
            "---------------------\n",
            "Designing a one-pass, zero-phase, non-causal bandpass filter:\n",
            "- Windowed time-domain design (firwin) method\n",
            "- Hamming window with 0.0194 passband ripple and 53 dB stopband attenuation\n",
            "- Lower passband edge: 1.00\n",
            "- Lower transition bandwidth: 1.00 Hz (-6 dB cutoff frequency: 0.50 Hz)\n",
            "- Upper passband edge: 150.00 Hz\n",
            "- Upper transition bandwidth: 37.50 Hz (-6 dB cutoff frequency: 168.75 Hz)\n",
            "- Filter length: 3301 samples (3.301 sec)\n",
            "\n",
            "EEG channel type selected for re-referencing\n",
            "Applying average reference.\n",
            "Applying a custom ('EEG',) reference.\n",
            "Extracting parameters from C:/Users/wsurx/PycharmProjects/EEG_PREPROCESS/Recording/EEG_DATA/sub-01/eeg/sub-01_task-rsvp_eeg.vhdr...\n"
          ]
        },
        {
          "name": "stderr",
          "output_type": "stream",
          "text": [
            "C:\\Users\\wsurx\\AppData\\Local\\Temp/ipykernel_6840/1319060889.py:12: RuntimeWarning: filter_length (3301) is longer than the signal (1101), distortion is likely. Reduce filter length or filter a longer signal.\n",
            "  first_concept.append(selected_epochs.load_data().set_eeg_reference(ref_channels='average').filter(h_freq=150, l_freq=1).set_eeg_reference(ref_channels='average').get_data())\n"
          ]
        },
        {
          "name": "stdout",
          "output_type": "stream",
          "text": [
            "Setting channel info structure...\n",
            "Used Annotations descriptions: ['Event/E  1', 'Event/E  2', 'Event/E  3', 'New Segment/']\n",
            "Not setting metadata\n",
            "Not setting metadata\n",
            "44569 matching events found\n",
            "Setting baseline interval to [-0.1, 1.0] sec\n",
            "Applying baseline correction (mode: mean)\n",
            "0 projection items activated\n",
            "Loading data for 12 events and 1101 original time points ...\n",
            "0 bad epochs dropped\n",
            "EEG channel type selected for re-referencing\n",
            "Applying average reference.\n",
            "Applying a custom ('EEG',) reference.\n",
            "Setting up band-pass filter from 1 - 1.5e+02 Hz\n",
            "\n",
            "FIR filter parameters\n",
            "---------------------\n",
            "Designing a one-pass, zero-phase, non-causal bandpass filter:\n",
            "- Windowed time-domain design (firwin) method\n",
            "- Hamming window with 0.0194 passband ripple and 53 dB stopband attenuation\n",
            "- Lower passband edge: 1.00\n",
            "- Lower transition bandwidth: 1.00 Hz (-6 dB cutoff frequency: 0.50 Hz)\n",
            "- Upper passband edge: 150.00 Hz\n",
            "- Upper transition bandwidth: 37.50 Hz (-6 dB cutoff frequency: 168.75 Hz)\n",
            "- Filter length: 3301 samples (3.301 sec)\n",
            "\n",
            "EEG channel type selected for re-referencing\n"
          ]
        },
        {
          "name": "stderr",
          "output_type": "stream",
          "text": [
            "C:\\Users\\wsurx\\AppData\\Local\\Temp/ipykernel_6840/1319060889.py:12: RuntimeWarning: filter_length (3301) is longer than the signal (1101), distortion is likely. Reduce filter length or filter a longer signal.\n",
            "  first_concept.append(selected_epochs.load_data().set_eeg_reference(ref_channels='average').filter(h_freq=150, l_freq=1).set_eeg_reference(ref_channels='average').get_data())\n"
          ]
        },
        {
          "name": "stdout",
          "output_type": "stream",
          "text": [
            "Applying average reference.\n",
            "Applying a custom ('EEG',) reference.\n",
            "Extracting parameters from C:/Users/wsurx/PycharmProjects/EEG_PREPROCESS/Recording/EEG_DATA/sub-01/eeg/sub-01_task-rsvp_eeg.vhdr...\n",
            "Setting channel info structure...\n",
            "Used Annotations descriptions: ['Event/E  1', 'Event/E  2', 'Event/E  3', 'New Segment/']\n",
            "Not setting metadata\n",
            "Not setting metadata\n",
            "44569 matching events found\n",
            "Setting baseline interval to [-0.1, 1.0] sec\n",
            "Applying baseline correction (mode: mean)\n",
            "0 projection items activated\n",
            "Loading data for 12 events and 1101 original time points ...\n",
            "0 bad epochs dropped\n",
            "EEG channel type selected for re-referencing\n",
            "Applying average reference.\n",
            "Applying a custom ('EEG',) reference.\n",
            "Setting up band-pass filter from 1 - 1.5e+02 Hz\n",
            "\n",
            "FIR filter parameters\n",
            "---------------------\n",
            "Designing a one-pass, zero-phase, non-causal bandpass filter:\n",
            "- Windowed time-domain design (firwin) method\n",
            "- Hamming window with 0.0194 passband ripple and 53 dB stopband attenuation\n",
            "- Lower passband edge: 1.00\n",
            "- Lower transition bandwidth: 1.00 Hz (-6 dB cutoff frequency: 0.50 Hz)\n",
            "- Upper passband edge: 150.00 Hz\n",
            "- Upper transition bandwidth: 37.50 Hz (-6 dB cutoff frequency: 168.75 Hz)\n",
            "- Filter length: 3301 samples (3.301 sec)\n",
            "\n",
            "EEG channel type selected for re-referencing\n",
            "Applying average reference.\n",
            "Applying a custom ('EEG',) reference.\n",
            "Extracting parameters from C:/Users/wsurx/PycharmProjects/EEG_PREPROCESS/Recording/EEG_DATA/sub-01/eeg/sub-01_task-rsvp_eeg.vhdr...\n"
          ]
        },
        {
          "name": "stderr",
          "output_type": "stream",
          "text": [
            "C:\\Users\\wsurx\\AppData\\Local\\Temp/ipykernel_6840/1319060889.py:12: RuntimeWarning: filter_length (3301) is longer than the signal (1101), distortion is likely. Reduce filter length or filter a longer signal.\n",
            "  first_concept.append(selected_epochs.load_data().set_eeg_reference(ref_channels='average').filter(h_freq=150, l_freq=1).set_eeg_reference(ref_channels='average').get_data())\n"
          ]
        },
        {
          "name": "stdout",
          "output_type": "stream",
          "text": [
            "Setting channel info structure...\n",
            "Used Annotations descriptions: ['Event/E  1', 'Event/E  2', 'Event/E  3', 'New Segment/']\n",
            "Not setting metadata\n",
            "Not setting metadata\n",
            "44569 matching events found\n",
            "Setting baseline interval to [-0.1, 1.0] sec\n",
            "Applying baseline correction (mode: mean)\n",
            "0 projection items activated\n",
            "Loading data for 12 events and 1101 original time points ...\n",
            "0 bad epochs dropped\n",
            "EEG channel type selected for re-referencing\n",
            "Applying average reference.\n",
            "Applying a custom ('EEG',) reference.\n",
            "Setting up band-pass filter from 1 - 1.5e+02 Hz\n",
            "\n",
            "FIR filter parameters\n",
            "---------------------\n",
            "Designing a one-pass, zero-phase, non-causal bandpass filter:\n",
            "- Windowed time-domain design (firwin) method\n",
            "- Hamming window with 0.0194 passband ripple and 53 dB stopband attenuation\n",
            "- Lower passband edge: 1.00\n",
            "- Lower transition bandwidth: 1.00 Hz (-6 dB cutoff frequency: 0.50 Hz)\n",
            "- Upper passband edge: 150.00 Hz\n",
            "- Upper transition bandwidth: 37.50 Hz (-6 dB cutoff frequency: 168.75 Hz)\n",
            "- Filter length: 3301 samples (3.301 sec)\n",
            "\n"
          ]
        },
        {
          "name": "stderr",
          "output_type": "stream",
          "text": [
            "C:\\Users\\wsurx\\AppData\\Local\\Temp/ipykernel_6840/1319060889.py:12: RuntimeWarning: filter_length (3301) is longer than the signal (1101), distortion is likely. Reduce filter length or filter a longer signal.\n",
            "  first_concept.append(selected_epochs.load_data().set_eeg_reference(ref_channels='average').filter(h_freq=150, l_freq=1).set_eeg_reference(ref_channels='average').get_data())\n"
          ]
        },
        {
          "name": "stdout",
          "output_type": "stream",
          "text": [
            "EEG channel type selected for re-referencing\n",
            "Applying average reference.\n",
            "Applying a custom ('EEG',) reference.\n",
            "Extracting parameters from C:/Users/wsurx/PycharmProjects/EEG_PREPROCESS/Recording/EEG_DATA/sub-01/eeg/sub-01_task-rsvp_eeg.vhdr...\n",
            "Setting channel info structure...\n",
            "Used Annotations descriptions: ['Event/E  1', 'Event/E  2', 'Event/E  3', 'New Segment/']\n",
            "Not setting metadata\n",
            "Not setting metadata\n",
            "44569 matching events found\n",
            "Setting baseline interval to [-0.1, 1.0] sec\n",
            "Applying baseline correction (mode: mean)\n",
            "0 projection items activated\n",
            "Loading data for 12 events and 1101 original time points ...\n",
            "0 bad epochs dropped\n",
            "EEG channel type selected for re-referencing\n",
            "Applying average reference.\n",
            "Applying a custom ('EEG',) reference.\n",
            "Setting up band-pass filter from 1 - 1.5e+02 Hz\n",
            "\n",
            "FIR filter parameters\n",
            "---------------------\n",
            "Designing a one-pass, zero-phase, non-causal bandpass filter:\n",
            "- Windowed time-domain design (firwin) method\n",
            "- Hamming window with 0.0194 passband ripple and 53 dB stopband attenuation\n",
            "- Lower passband edge: 1.00\n",
            "- Lower transition bandwidth: 1.00 Hz (-6 dB cutoff frequency: 0.50 Hz)\n",
            "- Upper passband edge: 150.00 Hz\n",
            "- Upper transition bandwidth: 37.50 Hz (-6 dB cutoff frequency: 168.75 Hz)\n",
            "- Filter length: 3301 samples (3.301 sec)\n",
            "\n",
            "EEG channel type selected for re-referencing\n",
            "Applying average reference.\n",
            "Applying a custom ('EEG',) reference.\n",
            "Extracting parameters from C:/Users/wsurx/PycharmProjects/EEG_PREPROCESS/Recording/EEG_DATA/sub-01/eeg/sub-01_task-rsvp_eeg.vhdr...\n"
          ]
        },
        {
          "name": "stderr",
          "output_type": "stream",
          "text": [
            "C:\\Users\\wsurx\\AppData\\Local\\Temp/ipykernel_6840/1319060889.py:12: RuntimeWarning: filter_length (3301) is longer than the signal (1101), distortion is likely. Reduce filter length or filter a longer signal.\n",
            "  first_concept.append(selected_epochs.load_data().set_eeg_reference(ref_channels='average').filter(h_freq=150, l_freq=1).set_eeg_reference(ref_channels='average').get_data())\n"
          ]
        },
        {
          "name": "stdout",
          "output_type": "stream",
          "text": [
            "Setting channel info structure...\n",
            "Used Annotations descriptions: ['Event/E  1', 'Event/E  2', 'Event/E  3', 'New Segment/']\n",
            "Not setting metadata\n",
            "Not setting metadata\n",
            "44569 matching events found\n",
            "Setting baseline interval to [-0.1, 1.0] sec\n",
            "Applying baseline correction (mode: mean)\n",
            "0 projection items activated\n",
            "Loading data for 12 events and 1101 original time points ...\n",
            "0 bad epochs dropped\n",
            "EEG channel type selected for re-referencing\n",
            "Applying average reference.\n",
            "Applying a custom ('EEG',) reference.\n",
            "Setting up band-pass filter from 1 - 1.5e+02 Hz\n",
            "\n",
            "FIR filter parameters\n",
            "---------------------\n",
            "Designing a one-pass, zero-phase, non-causal bandpass filter:\n",
            "- Windowed time-domain design (firwin) method\n",
            "- Hamming window with 0.0194 passband ripple and 53 dB stopband attenuation\n",
            "- Lower passband edge: 1.00\n",
            "- Lower transition bandwidth: 1.00 Hz (-6 dB cutoff frequency: 0.50 Hz)\n",
            "- Upper passband edge: 150.00 Hz\n",
            "- Upper transition bandwidth: 37.50 Hz (-6 dB cutoff frequency: 168.75 Hz)\n",
            "- Filter length: 3301 samples (3.301 sec)\n",
            "\n",
            "EEG channel type selected for re-referencing\n",
            "Applying average reference.\n",
            "Applying a custom ('EEG',) reference.\n",
            "Extracting parameters from C:/Users/wsurx/PycharmProjects/EEG_PREPROCESS/Recording/EEG_DATA/sub-01/eeg/sub-01_task-rsvp_eeg.vhdr...\n"
          ]
        },
        {
          "name": "stderr",
          "output_type": "stream",
          "text": [
            "C:\\Users\\wsurx\\AppData\\Local\\Temp/ipykernel_6840/1319060889.py:12: RuntimeWarning: filter_length (3301) is longer than the signal (1101), distortion is likely. Reduce filter length or filter a longer signal.\n",
            "  first_concept.append(selected_epochs.load_data().set_eeg_reference(ref_channels='average').filter(h_freq=150, l_freq=1).set_eeg_reference(ref_channels='average').get_data())\n"
          ]
        },
        {
          "name": "stdout",
          "output_type": "stream",
          "text": [
            "Setting channel info structure...\n",
            "Used Annotations descriptions: ['Event/E  1', 'Event/E  2', 'Event/E  3', 'New Segment/']\n",
            "Not setting metadata\n",
            "Not setting metadata\n",
            "44569 matching events found\n",
            "Setting baseline interval to [-0.1, 1.0] sec\n",
            "Applying baseline correction (mode: mean)\n",
            "0 projection items activated\n",
            "Loading data for 12 events and 1101 original time points ...\n",
            "0 bad epochs dropped\n",
            "EEG channel type selected for re-referencing\n",
            "Applying average reference.\n",
            "Applying a custom ('EEG',) reference.\n",
            "Setting up band-pass filter from 1 - 1.5e+02 Hz\n",
            "\n",
            "FIR filter parameters\n",
            "---------------------\n",
            "Designing a one-pass, zero-phase, non-causal bandpass filter:\n",
            "- Windowed time-domain design (firwin) method\n",
            "- Hamming window with 0.0194 passband ripple and 53 dB stopband attenuation\n",
            "- Lower passband edge: 1.00\n",
            "- Lower transition bandwidth: 1.00 Hz (-6 dB cutoff frequency: 0.50 Hz)\n",
            "- Upper passband edge: 150.00 Hz\n",
            "- Upper transition bandwidth: 37.50 Hz (-6 dB cutoff frequency: 168.75 Hz)\n",
            "- Filter length: 3301 samples (3.301 sec)\n",
            "\n",
            "EEG channel type selected for re-referencing\n",
            "Applying average reference.\n",
            "Applying a custom ('EEG',) reference.\n",
            "Extracting parameters from C:/Users/wsurx/PycharmProjects/EEG_PREPROCESS/Recording/EEG_DATA/sub-01/eeg/sub-01_task-rsvp_eeg.vhdr...\n"
          ]
        },
        {
          "name": "stderr",
          "output_type": "stream",
          "text": [
            "C:\\Users\\wsurx\\AppData\\Local\\Temp/ipykernel_6840/1319060889.py:12: RuntimeWarning: filter_length (3301) is longer than the signal (1101), distortion is likely. Reduce filter length or filter a longer signal.\n",
            "  first_concept.append(selected_epochs.load_data().set_eeg_reference(ref_channels='average').filter(h_freq=150, l_freq=1).set_eeg_reference(ref_channels='average').get_data())\n"
          ]
        },
        {
          "name": "stdout",
          "output_type": "stream",
          "text": [
            "Setting channel info structure...\n",
            "Used Annotations descriptions: ['Event/E  1', 'Event/E  2', 'Event/E  3', 'New Segment/']\n",
            "Not setting metadata\n",
            "Not setting metadata\n",
            "44569 matching events found\n",
            "Setting baseline interval to [-0.1, 1.0] sec\n",
            "Applying baseline correction (mode: mean)\n",
            "0 projection items activated\n",
            "Loading data for 12 events and 1101 original time points ...\n",
            "0 bad epochs dropped\n",
            "EEG channel type selected for re-referencing\n",
            "Applying average reference.\n",
            "Applying a custom ('EEG',) reference.\n",
            "Setting up band-pass filter from 1 - 1.5e+02 Hz\n",
            "\n",
            "FIR filter parameters\n",
            "---------------------\n",
            "Designing a one-pass, zero-phase, non-causal bandpass filter:\n",
            "- Windowed time-domain design (firwin) method\n",
            "- Hamming window with 0.0194 passband ripple and 53 dB stopband attenuation\n",
            "- Lower passband edge: 1.00\n",
            "- Lower transition bandwidth: 1.00 Hz (-6 dB cutoff frequency: 0.50 Hz)\n",
            "- Upper passband edge: 150.00 Hz\n",
            "- Upper transition bandwidth: 37.50 Hz (-6 dB cutoff frequency: 168.75 Hz)\n",
            "- Filter length: 3301 samples (3.301 sec)\n",
            "\n",
            "EEG channel type selected for re-referencing\n",
            "Applying average reference.\n",
            "Applying a custom ('EEG',) reference.\n",
            "Extracting parameters from C:/Users/wsurx/PycharmProjects/EEG_PREPROCESS/Recording/EEG_DATA/sub-01/eeg/sub-01_task-rsvp_eeg.vhdr...\n"
          ]
        },
        {
          "name": "stderr",
          "output_type": "stream",
          "text": [
            "C:\\Users\\wsurx\\AppData\\Local\\Temp/ipykernel_6840/1319060889.py:12: RuntimeWarning: filter_length (3301) is longer than the signal (1101), distortion is likely. Reduce filter length or filter a longer signal.\n",
            "  first_concept.append(selected_epochs.load_data().set_eeg_reference(ref_channels='average').filter(h_freq=150, l_freq=1).set_eeg_reference(ref_channels='average').get_data())\n"
          ]
        },
        {
          "name": "stdout",
          "output_type": "stream",
          "text": [
            "Setting channel info structure...\n",
            "Used Annotations descriptions: ['Event/E  1', 'Event/E  2', 'Event/E  3', 'New Segment/']\n",
            "Not setting metadata\n",
            "Not setting metadata\n",
            "44569 matching events found\n",
            "Setting baseline interval to [-0.1, 1.0] sec\n",
            "Applying baseline correction (mode: mean)\n",
            "0 projection items activated\n",
            "Loading data for 12 events and 1101 original time points ...\n",
            "0 bad epochs dropped\n",
            "EEG channel type selected for re-referencing\n",
            "Applying average reference.\n",
            "Applying a custom ('EEG',) reference.\n",
            "Setting up band-pass filter from 1 - 1.5e+02 Hz\n",
            "\n",
            "FIR filter parameters\n",
            "---------------------\n",
            "Designing a one-pass, zero-phase, non-causal bandpass filter:\n",
            "- Windowed time-domain design (firwin) method\n",
            "- Hamming window with 0.0194 passband ripple and 53 dB stopband attenuation\n",
            "- Lower passband edge: 1.00\n",
            "- Lower transition bandwidth: 1.00 Hz (-6 dB cutoff frequency: 0.50 Hz)\n",
            "- Upper passband edge: 150.00 Hz\n",
            "- Upper transition bandwidth: 37.50 Hz (-6 dB cutoff frequency: 168.75 Hz)\n",
            "- Filter length: 3301 samples (3.301 sec)\n",
            "\n",
            "EEG channel type selected for re-referencing\n",
            "Applying average reference.\n",
            "Applying a custom ('EEG',) reference.\n"
          ]
        },
        {
          "name": "stderr",
          "output_type": "stream",
          "text": [
            "C:\\Users\\wsurx\\AppData\\Local\\Temp/ipykernel_6840/1319060889.py:12: RuntimeWarning: filter_length (3301) is longer than the signal (1101), distortion is likely. Reduce filter length or filter a longer signal.\n",
            "  first_concept.append(selected_epochs.load_data().set_eeg_reference(ref_channels='average').filter(h_freq=150, l_freq=1).set_eeg_reference(ref_channels='average').get_data())\n"
          ]
        },
        {
          "name": "stdout",
          "output_type": "stream",
          "text": [
            "Extracting parameters from C:/Users/wsurx/PycharmProjects/EEG_PREPROCESS/Recording/EEG_DATA/sub-01/eeg/sub-01_task-rsvp_eeg.vhdr...\n",
            "Setting channel info structure...\n",
            "Used Annotations descriptions: ['Event/E  1', 'Event/E  2', 'Event/E  3', 'New Segment/']\n",
            "Not setting metadata\n",
            "Not setting metadata\n",
            "44569 matching events found\n",
            "Setting baseline interval to [-0.1, 1.0] sec\n",
            "Applying baseline correction (mode: mean)\n",
            "0 projection items activated\n",
            "Loading data for 12 events and 1101 original time points ...\n",
            "0 bad epochs dropped\n",
            "EEG channel type selected for re-referencing\n",
            "Applying average reference.\n",
            "Applying a custom ('EEG',) reference.\n",
            "Setting up band-pass filter from 1 - 1.5e+02 Hz\n",
            "\n",
            "FIR filter parameters\n",
            "---------------------\n",
            "Designing a one-pass, zero-phase, non-causal bandpass filter:\n",
            "- Windowed time-domain design (firwin) method\n",
            "- Hamming window with 0.0194 passband ripple and 53 dB stopband attenuation\n",
            "- Lower passband edge: 1.00\n",
            "- Lower transition bandwidth: 1.00 Hz (-6 dB cutoff frequency: 0.50 Hz)\n",
            "- Upper passband edge: 150.00 Hz\n",
            "- Upper transition bandwidth: 37.50 Hz (-6 dB cutoff frequency: 168.75 Hz)\n",
            "- Filter length: 3301 samples (3.301 sec)\n",
            "\n",
            "EEG channel type selected for re-referencing\n",
            "Applying average reference.\n",
            "Applying a custom ('EEG',) reference.\n",
            "Extracting parameters from C:/Users/wsurx/PycharmProjects/EEG_PREPROCESS/Recording/EEG_DATA/sub-01/eeg/sub-01_task-rsvp_eeg.vhdr...\n"
          ]
        },
        {
          "name": "stderr",
          "output_type": "stream",
          "text": [
            "C:\\Users\\wsurx\\AppData\\Local\\Temp/ipykernel_6840/1319060889.py:12: RuntimeWarning: filter_length (3301) is longer than the signal (1101), distortion is likely. Reduce filter length or filter a longer signal.\n",
            "  first_concept.append(selected_epochs.load_data().set_eeg_reference(ref_channels='average').filter(h_freq=150, l_freq=1).set_eeg_reference(ref_channels='average').get_data())\n"
          ]
        },
        {
          "name": "stdout",
          "output_type": "stream",
          "text": [
            "Setting channel info structure...\n",
            "Used Annotations descriptions: ['Event/E  1', 'Event/E  2', 'Event/E  3', 'New Segment/']\n",
            "Not setting metadata\n",
            "Not setting metadata\n",
            "44569 matching events found\n",
            "Setting baseline interval to [-0.1, 1.0] sec\n",
            "Applying baseline correction (mode: mean)\n",
            "0 projection items activated\n",
            "Loading data for 12 events and 1101 original time points ...\n",
            "0 bad epochs dropped\n",
            "EEG channel type selected for re-referencing\n",
            "Applying average reference.\n",
            "Applying a custom ('EEG',) reference.\n",
            "Setting up band-pass filter from 1 - 1.5e+02 Hz\n",
            "\n",
            "FIR filter parameters\n",
            "---------------------\n",
            "Designing a one-pass, zero-phase, non-causal bandpass filter:\n",
            "- Windowed time-domain design (firwin) method\n",
            "- Hamming window with 0.0194 passband ripple and 53 dB stopband attenuation\n",
            "- Lower passband edge: 1.00\n",
            "- Lower transition bandwidth: 1.00 Hz (-6 dB cutoff frequency: 0.50 Hz)\n",
            "- Upper passband edge: 150.00 Hz\n",
            "- Upper transition bandwidth: 37.50 Hz (-6 dB cutoff frequency: 168.75 Hz)\n",
            "- Filter length: 3301 samples (3.301 sec)\n",
            "\n",
            "EEG channel type selected for re-referencing\n",
            "Applying average reference.\n",
            "Applying a custom ('EEG',) reference.\n"
          ]
        },
        {
          "name": "stderr",
          "output_type": "stream",
          "text": [
            "C:\\Users\\wsurx\\AppData\\Local\\Temp/ipykernel_6840/1319060889.py:12: RuntimeWarning: filter_length (3301) is longer than the signal (1101), distortion is likely. Reduce filter length or filter a longer signal.\n",
            "  first_concept.append(selected_epochs.load_data().set_eeg_reference(ref_channels='average').filter(h_freq=150, l_freq=1).set_eeg_reference(ref_channels='average').get_data())\n"
          ]
        },
        {
          "name": "stdout",
          "output_type": "stream",
          "text": [
            "Extracting parameters from C:/Users/wsurx/PycharmProjects/EEG_PREPROCESS/Recording/EEG_DATA/sub-01/eeg/sub-01_task-rsvp_eeg.vhdr...\n",
            "Setting channel info structure...\n",
            "Used Annotations descriptions: ['Event/E  1', 'Event/E  2', 'Event/E  3', 'New Segment/']\n",
            "Not setting metadata\n",
            "Not setting metadata\n",
            "44569 matching events found\n",
            "Setting baseline interval to [-0.1, 1.0] sec\n",
            "Applying baseline correction (mode: mean)\n",
            "0 projection items activated\n",
            "Loading data for 12 events and 1101 original time points ...\n",
            "0 bad epochs dropped\n",
            "EEG channel type selected for re-referencing\n",
            "Applying average reference.\n",
            "Applying a custom ('EEG',) reference.\n",
            "Setting up band-pass filter from 1 - 1.5e+02 Hz\n",
            "\n",
            "FIR filter parameters\n",
            "---------------------\n",
            "Designing a one-pass, zero-phase, non-causal bandpass filter:\n",
            "- Windowed time-domain design (firwin) method\n",
            "- Hamming window with 0.0194 passband ripple and 53 dB stopband attenuation\n",
            "- Lower passband edge: 1.00\n",
            "- Lower transition bandwidth: 1.00 Hz (-6 dB cutoff frequency: 0.50 Hz)\n",
            "- Upper passband edge: 150.00 Hz\n",
            "- Upper transition bandwidth: 37.50 Hz (-6 dB cutoff frequency: 168.75 Hz)\n",
            "- Filter length: 3301 samples (3.301 sec)\n",
            "\n",
            "EEG channel type selected for re-referencing\n",
            "Applying average reference.\n",
            "Applying a custom ('EEG',) reference.\n",
            "Extracting parameters from C:/Users/wsurx/PycharmProjects/EEG_PREPROCESS/Recording/EEG_DATA/sub-01/eeg/sub-01_task-rsvp_eeg.vhdr...\n"
          ]
        },
        {
          "name": "stderr",
          "output_type": "stream",
          "text": [
            "C:\\Users\\wsurx\\AppData\\Local\\Temp/ipykernel_6840/1319060889.py:12: RuntimeWarning: filter_length (3301) is longer than the signal (1101), distortion is likely. Reduce filter length or filter a longer signal.\n",
            "  first_concept.append(selected_epochs.load_data().set_eeg_reference(ref_channels='average').filter(h_freq=150, l_freq=1).set_eeg_reference(ref_channels='average').get_data())\n"
          ]
        },
        {
          "name": "stdout",
          "output_type": "stream",
          "text": [
            "Setting channel info structure...\n",
            "Used Annotations descriptions: ['Event/E  1', 'Event/E  2', 'Event/E  3', 'New Segment/']\n",
            "Not setting metadata\n",
            "Not setting metadata\n",
            "44569 matching events found\n",
            "Setting baseline interval to [-0.1, 1.0] sec\n",
            "Applying baseline correction (mode: mean)\n",
            "0 projection items activated\n",
            "Loading data for 12 events and 1101 original time points ...\n",
            "0 bad epochs dropped\n",
            "EEG channel type selected for re-referencing\n",
            "Applying average reference.\n",
            "Applying a custom ('EEG',) reference.\n",
            "Setting up band-pass filter from 1 - 1.5e+02 Hz\n",
            "\n",
            "FIR filter parameters\n",
            "---------------------\n",
            "Designing a one-pass, zero-phase, non-causal bandpass filter:\n",
            "- Windowed time-domain design (firwin) method\n",
            "- Hamming window with 0.0194 passband ripple and 53 dB stopband attenuation\n",
            "- Lower passband edge: 1.00\n",
            "- Lower transition bandwidth: 1.00 Hz (-6 dB cutoff frequency: 0.50 Hz)\n",
            "- Upper passband edge: 150.00 Hz\n",
            "- Upper transition bandwidth: 37.50 Hz (-6 dB cutoff frequency: 168.75 Hz)\n",
            "- Filter length: 3301 samples (3.301 sec)\n",
            "\n",
            "EEG channel type selected for re-referencing\n",
            "Applying average reference.\n",
            "Applying a custom ('EEG',) reference.\n"
          ]
        },
        {
          "name": "stderr",
          "output_type": "stream",
          "text": [
            "C:\\Users\\wsurx\\AppData\\Local\\Temp/ipykernel_6840/1319060889.py:12: RuntimeWarning: filter_length (3301) is longer than the signal (1101), distortion is likely. Reduce filter length or filter a longer signal.\n",
            "  first_concept.append(selected_epochs.load_data().set_eeg_reference(ref_channels='average').filter(h_freq=150, l_freq=1).set_eeg_reference(ref_channels='average').get_data())\n"
          ]
        },
        {
          "name": "stdout",
          "output_type": "stream",
          "text": [
            "Extracting parameters from C:/Users/wsurx/PycharmProjects/EEG_PREPROCESS/Recording/EEG_DATA/sub-01/eeg/sub-01_task-rsvp_eeg.vhdr...\n",
            "Setting channel info structure...\n",
            "Used Annotations descriptions: ['Event/E  1', 'Event/E  2', 'Event/E  3', 'New Segment/']\n",
            "Not setting metadata\n",
            "Not setting metadata\n",
            "44569 matching events found\n",
            "Setting baseline interval to [-0.1, 1.0] sec\n",
            "Applying baseline correction (mode: mean)\n",
            "0 projection items activated\n",
            "Loading data for 12 events and 1101 original time points ...\n",
            "0 bad epochs dropped\n",
            "EEG channel type selected for re-referencing\n",
            "Applying average reference.\n",
            "Applying a custom ('EEG',) reference.\n",
            "Setting up band-pass filter from 1 - 1.5e+02 Hz\n",
            "\n",
            "FIR filter parameters\n",
            "---------------------\n",
            "Designing a one-pass, zero-phase, non-causal bandpass filter:\n",
            "- Windowed time-domain design (firwin) method\n",
            "- Hamming window with 0.0194 passband ripple and 53 dB stopband attenuation\n",
            "- Lower passband edge: 1.00\n",
            "- Lower transition bandwidth: 1.00 Hz (-6 dB cutoff frequency: 0.50 Hz)\n",
            "- Upper passband edge: 150.00 Hz\n",
            "- Upper transition bandwidth: 37.50 Hz (-6 dB cutoff frequency: 168.75 Hz)\n",
            "- Filter length: 3301 samples (3.301 sec)\n",
            "\n",
            "EEG channel type selected for re-referencing\n"
          ]
        },
        {
          "name": "stderr",
          "output_type": "stream",
          "text": [
            "C:\\Users\\wsurx\\AppData\\Local\\Temp/ipykernel_6840/1319060889.py:12: RuntimeWarning: filter_length (3301) is longer than the signal (1101), distortion is likely. Reduce filter length or filter a longer signal.\n",
            "  first_concept.append(selected_epochs.load_data().set_eeg_reference(ref_channels='average').filter(h_freq=150, l_freq=1).set_eeg_reference(ref_channels='average').get_data())\n"
          ]
        },
        {
          "name": "stdout",
          "output_type": "stream",
          "text": [
            "Applying average reference.\n",
            "Applying a custom ('EEG',) reference.\n",
            "Extracting parameters from C:/Users/wsurx/PycharmProjects/EEG_PREPROCESS/Recording/EEG_DATA/sub-01/eeg/sub-01_task-rsvp_eeg.vhdr...\n",
            "Setting channel info structure...\n",
            "Used Annotations descriptions: ['Event/E  1', 'Event/E  2', 'Event/E  3', 'New Segment/']\n",
            "Not setting metadata\n",
            "Not setting metadata\n",
            "44569 matching events found\n",
            "Setting baseline interval to [-0.1, 1.0] sec\n",
            "Applying baseline correction (mode: mean)\n",
            "0 projection items activated\n",
            "Loading data for 12 events and 1101 original time points ...\n",
            "0 bad epochs dropped\n",
            "EEG channel type selected for re-referencing\n",
            "Applying average reference.\n",
            "Applying a custom ('EEG',) reference.\n",
            "Setting up band-pass filter from 1 - 1.5e+02 Hz\n",
            "\n",
            "FIR filter parameters\n",
            "---------------------\n",
            "Designing a one-pass, zero-phase, non-causal bandpass filter:\n",
            "- Windowed time-domain design (firwin) method\n",
            "- Hamming window with 0.0194 passband ripple and 53 dB stopband attenuation\n",
            "- Lower passband edge: 1.00\n",
            "- Lower transition bandwidth: 1.00 Hz (-6 dB cutoff frequency: 0.50 Hz)\n",
            "- Upper passband edge: 150.00 Hz\n",
            "- Upper transition bandwidth: 37.50 Hz (-6 dB cutoff frequency: 168.75 Hz)\n",
            "- Filter length: 3301 samples (3.301 sec)\n",
            "\n",
            "EEG channel type selected for re-referencing\n",
            "Applying average reference.\n",
            "Applying a custom ('EEG',) reference.\n",
            "Extracting parameters from C:/Users/wsurx/PycharmProjects/EEG_PREPROCESS/Recording/EEG_DATA/sub-01/eeg/sub-01_task-rsvp_eeg.vhdr...\n"
          ]
        },
        {
          "name": "stderr",
          "output_type": "stream",
          "text": [
            "C:\\Users\\wsurx\\AppData\\Local\\Temp/ipykernel_6840/1319060889.py:12: RuntimeWarning: filter_length (3301) is longer than the signal (1101), distortion is likely. Reduce filter length or filter a longer signal.\n",
            "  first_concept.append(selected_epochs.load_data().set_eeg_reference(ref_channels='average').filter(h_freq=150, l_freq=1).set_eeg_reference(ref_channels='average').get_data())\n"
          ]
        },
        {
          "name": "stdout",
          "output_type": "stream",
          "text": [
            "Setting channel info structure...\n",
            "Used Annotations descriptions: ['Event/E  1', 'Event/E  2', 'Event/E  3', 'New Segment/']\n",
            "Not setting metadata\n",
            "Not setting metadata\n",
            "44569 matching events found\n",
            "Setting baseline interval to [-0.1, 1.0] sec\n",
            "Applying baseline correction (mode: mean)\n",
            "0 projection items activated\n",
            "Loading data for 12 events and 1101 original time points ...\n",
            "0 bad epochs dropped\n",
            "EEG channel type selected for re-referencing\n",
            "Applying average reference.\n",
            "Applying a custom ('EEG',) reference.\n",
            "Setting up band-pass filter from 1 - 1.5e+02 Hz\n",
            "\n",
            "FIR filter parameters\n",
            "---------------------\n",
            "Designing a one-pass, zero-phase, non-causal bandpass filter:\n",
            "- Windowed time-domain design (firwin) method\n",
            "- Hamming window with 0.0194 passband ripple and 53 dB stopband attenuation\n",
            "- Lower passband edge: 1.00\n",
            "- Lower transition bandwidth: 1.00 Hz (-6 dB cutoff frequency: 0.50 Hz)\n",
            "- Upper passband edge: 150.00 Hz\n",
            "- Upper transition bandwidth: 37.50 Hz (-6 dB cutoff frequency: 168.75 Hz)\n",
            "- Filter length: 3301 samples (3.301 sec)\n",
            "\n",
            "EEG channel type selected for re-referencing\n",
            "Applying average reference.\n",
            "Applying a custom ('EEG',) reference.\n",
            "Extracting parameters from C:/Users/wsurx/PycharmProjects/EEG_PREPROCESS/Recording/EEG_DATA/sub-01/eeg/sub-01_task-rsvp_eeg.vhdr...\n"
          ]
        },
        {
          "name": "stderr",
          "output_type": "stream",
          "text": [
            "C:\\Users\\wsurx\\AppData\\Local\\Temp/ipykernel_6840/1319060889.py:12: RuntimeWarning: filter_length (3301) is longer than the signal (1101), distortion is likely. Reduce filter length or filter a longer signal.\n",
            "  first_concept.append(selected_epochs.load_data().set_eeg_reference(ref_channels='average').filter(h_freq=150, l_freq=1).set_eeg_reference(ref_channels='average').get_data())\n"
          ]
        },
        {
          "name": "stdout",
          "output_type": "stream",
          "text": [
            "Setting channel info structure...\n",
            "Used Annotations descriptions: ['Event/E  1', 'Event/E  2', 'Event/E  3', 'New Segment/']\n",
            "Not setting metadata\n",
            "Not setting metadata\n",
            "44569 matching events found\n",
            "Setting baseline interval to [-0.1, 1.0] sec\n",
            "Applying baseline correction (mode: mean)\n",
            "0 projection items activated\n",
            "Loading data for 12 events and 1101 original time points ...\n",
            "0 bad epochs dropped\n",
            "EEG channel type selected for re-referencing\n",
            "Applying average reference.\n",
            "Applying a custom ('EEG',) reference.\n",
            "Setting up band-pass filter from 1 - 1.5e+02 Hz\n",
            "\n",
            "FIR filter parameters\n",
            "---------------------\n",
            "Designing a one-pass, zero-phase, non-causal bandpass filter:\n",
            "- Windowed time-domain design (firwin) method\n",
            "- Hamming window with 0.0194 passband ripple and 53 dB stopband attenuation\n",
            "- Lower passband edge: 1.00\n",
            "- Lower transition bandwidth: 1.00 Hz (-6 dB cutoff frequency: 0.50 Hz)\n",
            "- Upper passband edge: 150.00 Hz\n",
            "- Upper transition bandwidth: 37.50 Hz (-6 dB cutoff frequency: 168.75 Hz)\n",
            "- Filter length: 3301 samples (3.301 sec)\n",
            "\n",
            "EEG channel type selected for re-referencing\n",
            "Applying average reference.\n"
          ]
        },
        {
          "name": "stderr",
          "output_type": "stream",
          "text": [
            "C:\\Users\\wsurx\\AppData\\Local\\Temp/ipykernel_6840/1319060889.py:12: RuntimeWarning: filter_length (3301) is longer than the signal (1101), distortion is likely. Reduce filter length or filter a longer signal.\n",
            "  first_concept.append(selected_epochs.load_data().set_eeg_reference(ref_channels='average').filter(h_freq=150, l_freq=1).set_eeg_reference(ref_channels='average').get_data())\n"
          ]
        },
        {
          "name": "stdout",
          "output_type": "stream",
          "text": [
            "Applying a custom ('EEG',) reference.\n",
            "Extracting parameters from C:/Users/wsurx/PycharmProjects/EEG_PREPROCESS/Recording/EEG_DATA/sub-01/eeg/sub-01_task-rsvp_eeg.vhdr...\n",
            "Setting channel info structure...\n",
            "Used Annotations descriptions: ['Event/E  1', 'Event/E  2', 'Event/E  3', 'New Segment/']\n",
            "Not setting metadata\n",
            "Not setting metadata\n",
            "44569 matching events found\n",
            "Setting baseline interval to [-0.1, 1.0] sec\n",
            "Applying baseline correction (mode: mean)\n",
            "0 projection items activated\n",
            "Loading data for 12 events and 1101 original time points ...\n",
            "0 bad epochs dropped\n",
            "EEG channel type selected for re-referencing\n",
            "Applying average reference.\n",
            "Applying a custom ('EEG',) reference.\n",
            "Setting up band-pass filter from 1 - 1.5e+02 Hz\n",
            "\n",
            "FIR filter parameters\n",
            "---------------------\n",
            "Designing a one-pass, zero-phase, non-causal bandpass filter:\n",
            "- Windowed time-domain design (firwin) method\n",
            "- Hamming window with 0.0194 passband ripple and 53 dB stopband attenuation\n",
            "- Lower passband edge: 1.00\n",
            "- Lower transition bandwidth: 1.00 Hz (-6 dB cutoff frequency: 0.50 Hz)\n",
            "- Upper passband edge: 150.00 Hz\n",
            "- Upper transition bandwidth: 37.50 Hz (-6 dB cutoff frequency: 168.75 Hz)\n",
            "- Filter length: 3301 samples (3.301 sec)\n",
            "\n",
            "EEG channel type selected for re-referencing\n",
            "Applying average reference.\n"
          ]
        },
        {
          "name": "stderr",
          "output_type": "stream",
          "text": [
            "C:\\Users\\wsurx\\AppData\\Local\\Temp/ipykernel_6840/1319060889.py:12: RuntimeWarning: filter_length (3301) is longer than the signal (1101), distortion is likely. Reduce filter length or filter a longer signal.\n",
            "  first_concept.append(selected_epochs.load_data().set_eeg_reference(ref_channels='average').filter(h_freq=150, l_freq=1).set_eeg_reference(ref_channels='average').get_data())\n"
          ]
        },
        {
          "name": "stdout",
          "output_type": "stream",
          "text": [
            "Applying a custom ('EEG',) reference.\n",
            "Extracting parameters from C:/Users/wsurx/PycharmProjects/EEG_PREPROCESS/Recording/EEG_DATA/sub-01/eeg/sub-01_task-rsvp_eeg.vhdr...\n",
            "Setting channel info structure...\n",
            "Used Annotations descriptions: ['Event/E  1', 'Event/E  2', 'Event/E  3', 'New Segment/']\n",
            "Not setting metadata\n",
            "Not setting metadata\n",
            "44569 matching events found\n",
            "Setting baseline interval to [-0.1, 1.0] sec\n",
            "Applying baseline correction (mode: mean)\n",
            "0 projection items activated\n",
            "Loading data for 12 events and 1101 original time points ...\n",
            "0 bad epochs dropped\n",
            "EEG channel type selected for re-referencing\n",
            "Applying average reference.\n",
            "Applying a custom ('EEG',) reference.\n",
            "Setting up band-pass filter from 1 - 1.5e+02 Hz\n",
            "\n",
            "FIR filter parameters\n",
            "---------------------\n",
            "Designing a one-pass, zero-phase, non-causal bandpass filter:\n",
            "- Windowed time-domain design (firwin) method\n",
            "- Hamming window with 0.0194 passband ripple and 53 dB stopband attenuation\n",
            "- Lower passband edge: 1.00\n",
            "- Lower transition bandwidth: 1.00 Hz (-6 dB cutoff frequency: 0.50 Hz)\n",
            "- Upper passband edge: 150.00 Hz\n",
            "- Upper transition bandwidth: 37.50 Hz (-6 dB cutoff frequency: 168.75 Hz)\n",
            "- Filter length: 3301 samples (3.301 sec)\n",
            "\n",
            "EEG channel type selected for re-referencing\n",
            "Applying average reference.\n",
            "Applying a custom ('EEG',) reference.\n",
            "Extracting parameters from C:/Users/wsurx/PycharmProjects/EEG_PREPROCESS/Recording/EEG_DATA/sub-01/eeg/sub-01_task-rsvp_eeg.vhdr...\n"
          ]
        },
        {
          "name": "stderr",
          "output_type": "stream",
          "text": [
            "C:\\Users\\wsurx\\AppData\\Local\\Temp/ipykernel_6840/1319060889.py:12: RuntimeWarning: filter_length (3301) is longer than the signal (1101), distortion is likely. Reduce filter length or filter a longer signal.\n",
            "  first_concept.append(selected_epochs.load_data().set_eeg_reference(ref_channels='average').filter(h_freq=150, l_freq=1).set_eeg_reference(ref_channels='average').get_data())\n"
          ]
        },
        {
          "name": "stdout",
          "output_type": "stream",
          "text": [
            "Setting channel info structure...\n",
            "Used Annotations descriptions: ['Event/E  1', 'Event/E  2', 'Event/E  3', 'New Segment/']\n",
            "Not setting metadata\n",
            "Not setting metadata\n",
            "44569 matching events found\n",
            "Setting baseline interval to [-0.1, 1.0] sec\n",
            "Applying baseline correction (mode: mean)\n",
            "0 projection items activated\n",
            "Loading data for 12 events and 1101 original time points ...\n",
            "0 bad epochs dropped\n",
            "EEG channel type selected for re-referencing\n",
            "Applying average reference.\n",
            "Applying a custom ('EEG',) reference.\n",
            "Setting up band-pass filter from 1 - 1.5e+02 Hz\n",
            "\n",
            "FIR filter parameters\n",
            "---------------------\n",
            "Designing a one-pass, zero-phase, non-causal bandpass filter:\n",
            "- Windowed time-domain design (firwin) method\n",
            "- Hamming window with 0.0194 passband ripple and 53 dB stopband attenuation\n",
            "- Lower passband edge: 1.00\n",
            "- Lower transition bandwidth: 1.00 Hz (-6 dB cutoff frequency: 0.50 Hz)\n",
            "- Upper passband edge: 150.00 Hz\n",
            "- Upper transition bandwidth: 37.50 Hz (-6 dB cutoff frequency: 168.75 Hz)\n",
            "- Filter length: 3301 samples (3.301 sec)\n",
            "\n",
            "EEG channel type selected for re-referencing\n",
            "Applying average reference.\n",
            "Applying a custom ('EEG',) reference.\n",
            "Extracting parameters from C:/Users/wsurx/PycharmProjects/EEG_PREPROCESS/Recording/EEG_DATA/sub-01/eeg/sub-01_task-rsvp_eeg.vhdr...\n"
          ]
        },
        {
          "name": "stderr",
          "output_type": "stream",
          "text": [
            "C:\\Users\\wsurx\\AppData\\Local\\Temp/ipykernel_6840/1319060889.py:12: RuntimeWarning: filter_length (3301) is longer than the signal (1101), distortion is likely. Reduce filter length or filter a longer signal.\n",
            "  first_concept.append(selected_epochs.load_data().set_eeg_reference(ref_channels='average').filter(h_freq=150, l_freq=1).set_eeg_reference(ref_channels='average').get_data())\n"
          ]
        },
        {
          "name": "stdout",
          "output_type": "stream",
          "text": [
            "Setting channel info structure...\n",
            "Used Annotations descriptions: ['Event/E  1', 'Event/E  2', 'Event/E  3', 'New Segment/']\n",
            "Not setting metadata\n",
            "Not setting metadata\n",
            "44569 matching events found\n",
            "Setting baseline interval to [-0.1, 1.0] sec\n",
            "Applying baseline correction (mode: mean)\n",
            "0 projection items activated\n",
            "Loading data for 12 events and 1101 original time points ...\n",
            "0 bad epochs dropped\n",
            "EEG channel type selected for re-referencing\n",
            "Applying average reference.\n",
            "Applying a custom ('EEG',) reference.\n",
            "Setting up band-pass filter from 1 - 1.5e+02 Hz\n",
            "\n",
            "FIR filter parameters\n",
            "---------------------\n",
            "Designing a one-pass, zero-phase, non-causal bandpass filter:\n",
            "- Windowed time-domain design (firwin) method\n",
            "- Hamming window with 0.0194 passband ripple and 53 dB stopband attenuation\n",
            "- Lower passband edge: 1.00\n",
            "- Lower transition bandwidth: 1.00 Hz (-6 dB cutoff frequency: 0.50 Hz)\n",
            "- Upper passband edge: 150.00 Hz\n",
            "- Upper transition bandwidth: 37.50 Hz (-6 dB cutoff frequency: 168.75 Hz)\n",
            "- Filter length: 3301 samples (3.301 sec)\n",
            "\n",
            "EEG channel type selected for re-referencing\n",
            "Applying average reference.\n",
            "Applying a custom ('EEG',) reference.\n",
            "Extracting parameters from C:/Users/wsurx/PycharmProjects/EEG_PREPROCESS/Recording/EEG_DATA/sub-01/eeg/sub-01_task-rsvp_eeg.vhdr...\n"
          ]
        },
        {
          "name": "stderr",
          "output_type": "stream",
          "text": [
            "C:\\Users\\wsurx\\AppData\\Local\\Temp/ipykernel_6840/1319060889.py:12: RuntimeWarning: filter_length (3301) is longer than the signal (1101), distortion is likely. Reduce filter length or filter a longer signal.\n",
            "  first_concept.append(selected_epochs.load_data().set_eeg_reference(ref_channels='average').filter(h_freq=150, l_freq=1).set_eeg_reference(ref_channels='average').get_data())\n"
          ]
        },
        {
          "name": "stdout",
          "output_type": "stream",
          "text": [
            "Setting channel info structure...\n",
            "Used Annotations descriptions: ['Event/E  1', 'Event/E  2', 'Event/E  3', 'New Segment/']\n",
            "Not setting metadata\n",
            "Not setting metadata\n",
            "44569 matching events found\n",
            "Setting baseline interval to [-0.1, 1.0] sec\n",
            "Applying baseline correction (mode: mean)\n",
            "0 projection items activated\n",
            "Loading data for 12 events and 1101 original time points ...\n",
            "0 bad epochs dropped\n",
            "EEG channel type selected for re-referencing\n",
            "Applying average reference.\n",
            "Applying a custom ('EEG',) reference.\n",
            "Setting up band-pass filter from 1 - 1.5e+02 Hz\n",
            "\n",
            "FIR filter parameters\n",
            "---------------------\n",
            "Designing a one-pass, zero-phase, non-causal bandpass filter:\n",
            "- Windowed time-domain design (firwin) method\n",
            "- Hamming window with 0.0194 passband ripple and 53 dB stopband attenuation\n",
            "- Lower passband edge: 1.00\n",
            "- Lower transition bandwidth: 1.00 Hz (-6 dB cutoff frequency: 0.50 Hz)\n",
            "- Upper passband edge: 150.00 Hz\n",
            "- Upper transition bandwidth: 37.50 Hz (-6 dB cutoff frequency: 168.75 Hz)\n",
            "- Filter length: 3301 samples (3.301 sec)\n",
            "\n",
            "EEG channel type selected for re-referencing\n"
          ]
        },
        {
          "name": "stderr",
          "output_type": "stream",
          "text": [
            "C:\\Users\\wsurx\\AppData\\Local\\Temp/ipykernel_6840/1319060889.py:12: RuntimeWarning: filter_length (3301) is longer than the signal (1101), distortion is likely. Reduce filter length or filter a longer signal.\n",
            "  first_concept.append(selected_epochs.load_data().set_eeg_reference(ref_channels='average').filter(h_freq=150, l_freq=1).set_eeg_reference(ref_channels='average').get_data())\n"
          ]
        },
        {
          "name": "stdout",
          "output_type": "stream",
          "text": [
            "Applying average reference.\n",
            "Applying a custom ('EEG',) reference.\n",
            "Extracting parameters from C:/Users/wsurx/PycharmProjects/EEG_PREPROCESS/Recording/EEG_DATA/sub-01/eeg/sub-01_task-rsvp_eeg.vhdr...\n",
            "Setting channel info structure...\n",
            "Used Annotations descriptions: ['Event/E  1', 'Event/E  2', 'Event/E  3', 'New Segment/']\n",
            "Not setting metadata\n",
            "Not setting metadata\n",
            "44569 matching events found\n",
            "Setting baseline interval to [-0.1, 1.0] sec\n",
            "Applying baseline correction (mode: mean)\n",
            "0 projection items activated\n",
            "Loading data for 12 events and 1101 original time points ...\n",
            "0 bad epochs dropped\n",
            "EEG channel type selected for re-referencing\n",
            "Applying average reference.\n",
            "Applying a custom ('EEG',) reference.\n",
            "Setting up band-pass filter from 1 - 1.5e+02 Hz\n",
            "\n",
            "FIR filter parameters\n",
            "---------------------\n",
            "Designing a one-pass, zero-phase, non-causal bandpass filter:\n",
            "- Windowed time-domain design (firwin) method\n",
            "- Hamming window with 0.0194 passband ripple and 53 dB stopband attenuation\n",
            "- Lower passband edge: 1.00\n",
            "- Lower transition bandwidth: 1.00 Hz (-6 dB cutoff frequency: 0.50 Hz)\n",
            "- Upper passband edge: 150.00 Hz\n",
            "- Upper transition bandwidth: 37.50 Hz (-6 dB cutoff frequency: 168.75 Hz)\n",
            "- Filter length: 3301 samples (3.301 sec)\n",
            "\n",
            "EEG channel type selected for re-referencing\n",
            "Applying average reference.\n",
            "Applying a custom ('EEG',) reference.\n",
            "Extracting parameters from C:/Users/wsurx/PycharmProjects/EEG_PREPROCESS/Recording/EEG_DATA/sub-01/eeg/sub-01_task-rsvp_eeg.vhdr...\n"
          ]
        },
        {
          "name": "stderr",
          "output_type": "stream",
          "text": [
            "C:\\Users\\wsurx\\AppData\\Local\\Temp/ipykernel_6840/1319060889.py:12: RuntimeWarning: filter_length (3301) is longer than the signal (1101), distortion is likely. Reduce filter length or filter a longer signal.\n",
            "  first_concept.append(selected_epochs.load_data().set_eeg_reference(ref_channels='average').filter(h_freq=150, l_freq=1).set_eeg_reference(ref_channels='average').get_data())\n"
          ]
        },
        {
          "name": "stdout",
          "output_type": "stream",
          "text": [
            "Setting channel info structure...\n",
            "Used Annotations descriptions: ['Event/E  1', 'Event/E  2', 'Event/E  3', 'New Segment/']\n",
            "Not setting metadata\n",
            "Not setting metadata\n",
            "44569 matching events found\n",
            "Setting baseline interval to [-0.1, 1.0] sec\n",
            "Applying baseline correction (mode: mean)\n",
            "0 projection items activated\n",
            "Loading data for 12 events and 1101 original time points ...\n",
            "0 bad epochs dropped\n",
            "EEG channel type selected for re-referencing\n",
            "Applying average reference.\n",
            "Applying a custom ('EEG',) reference.\n",
            "Setting up band-pass filter from 1 - 1.5e+02 Hz\n",
            "\n",
            "FIR filter parameters\n",
            "---------------------\n",
            "Designing a one-pass, zero-phase, non-causal bandpass filter:\n",
            "- Windowed time-domain design (firwin) method\n",
            "- Hamming window with 0.0194 passband ripple and 53 dB stopband attenuation\n",
            "- Lower passband edge: 1.00\n",
            "- Lower transition bandwidth: 1.00 Hz (-6 dB cutoff frequency: 0.50 Hz)\n",
            "- Upper passband edge: 150.00 Hz\n",
            "- Upper transition bandwidth: 37.50 Hz (-6 dB cutoff frequency: 168.75 Hz)\n",
            "- Filter length: 3301 samples (3.301 sec)\n",
            "\n",
            "EEG channel type selected for re-referencing\n",
            "Applying average reference.\n",
            "Applying a custom ('EEG',) reference.\n",
            "Extracting parameters from C:/Users/wsurx/PycharmProjects/EEG_PREPROCESS/Recording/EEG_DATA/sub-01/eeg/sub-01_task-rsvp_eeg.vhdr...\n"
          ]
        },
        {
          "name": "stderr",
          "output_type": "stream",
          "text": [
            "C:\\Users\\wsurx\\AppData\\Local\\Temp/ipykernel_6840/1319060889.py:12: RuntimeWarning: filter_length (3301) is longer than the signal (1101), distortion is likely. Reduce filter length or filter a longer signal.\n",
            "  first_concept.append(selected_epochs.load_data().set_eeg_reference(ref_channels='average').filter(h_freq=150, l_freq=1).set_eeg_reference(ref_channels='average').get_data())\n"
          ]
        },
        {
          "name": "stdout",
          "output_type": "stream",
          "text": [
            "Setting channel info structure...\n",
            "Used Annotations descriptions: ['Event/E  1', 'Event/E  2', 'Event/E  3', 'New Segment/']\n",
            "Not setting metadata\n",
            "Not setting metadata\n",
            "44569 matching events found\n",
            "Setting baseline interval to [-0.1, 1.0] sec\n",
            "Applying baseline correction (mode: mean)\n",
            "0 projection items activated\n",
            "Loading data for 12 events and 1101 original time points ...\n",
            "0 bad epochs dropped\n",
            "EEG channel type selected for re-referencing\n",
            "Applying average reference.\n",
            "Applying a custom ('EEG',) reference.\n",
            "Setting up band-pass filter from 1 - 1.5e+02 Hz\n",
            "\n",
            "FIR filter parameters\n",
            "---------------------\n",
            "Designing a one-pass, zero-phase, non-causal bandpass filter:\n",
            "- Windowed time-domain design (firwin) method\n",
            "- Hamming window with 0.0194 passband ripple and 53 dB stopband attenuation\n",
            "- Lower passband edge: 1.00\n",
            "- Lower transition bandwidth: 1.00 Hz (-6 dB cutoff frequency: 0.50 Hz)\n",
            "- Upper passband edge: 150.00 Hz\n",
            "- Upper transition bandwidth: 37.50 Hz (-6 dB cutoff frequency: 168.75 Hz)\n",
            "- Filter length: 3301 samples (3.301 sec)\n",
            "\n",
            "EEG channel type selected for re-referencing\n",
            "Applying average reference.\n",
            "Applying a custom ('EEG',) reference.\n"
          ]
        },
        {
          "name": "stderr",
          "output_type": "stream",
          "text": [
            "C:\\Users\\wsurx\\AppData\\Local\\Temp/ipykernel_6840/1319060889.py:12: RuntimeWarning: filter_length (3301) is longer than the signal (1101), distortion is likely. Reduce filter length or filter a longer signal.\n",
            "  first_concept.append(selected_epochs.load_data().set_eeg_reference(ref_channels='average').filter(h_freq=150, l_freq=1).set_eeg_reference(ref_channels='average').get_data())\n"
          ]
        }
      ],
      "source": [
        "face = get_data('face')\n",
        "granola = get_data('granola')\n",
        "piano = get_data('piano')\n",
        "centerpiece = get_data('centerpiece')\n",
        "ice = get_data('ice')\n",
        "pinball = get_data('pinball')\n",
        "# stir_fry = get_data('stir fry')\n",
        "# straw = get_data('straw')\n",
        "curry = get_data('curry')\n",
        "slicer = get_data('slicer')\n",
        "potpourri = get_data('potpourri')\n",
        "tostada = get_data('tostada')\n",
        "buffet = get_data('buffet')\n",
        "basket = get_data('basket')\n",
        "salad = get_data('salad')\n",
        "bush = get_data('bush')\n",
        "ticktacktoe = get_data('ticktacktoe')\n",
        "sundae = get_data('sundae')\n",
        "pizza = get_data('pizza')\n",
        "tuxedo = get_data('tuxedo')\n",
        "mulch = get_data('mulch')\n",
        "scarecrow = get_data('scarecrow')\n",
        "lava = get_data('lava')\n",
        "spatula = get_data('spatula')\n",
        "hay = get_data('hay')\n",
        "necklace = get_data('necklace')\n",
        "leotard = get_data('leotard')\n",
        "hash_c = get_data('hash')\n",
        "oyster = get_data('oyster')\n",
        "bark = get_data('bark')"
      ]
    },
    {
      "cell_type": "code",
      "execution_count": null,
      "id": "4e9142e5",
      "metadata": {
        "id": "4e9142e5",
        "outputId": "2d8c660e-1668-48fd-9e16-b6286a15fd34"
      },
      "outputs": [
        {
          "data": {
            "text/plain": [
              "(12, 63, 1101)"
            ]
          },
          "execution_count": 104,
          "metadata": {},
          "output_type": "execute_result"
        }
      ],
      "source": [
        "piano.shape"
      ]
    },
    {
      "cell_type": "code",
      "execution_count": null,
      "id": "5d9c0189",
      "metadata": {
        "scrolled": true,
        "id": "5d9c0189"
      },
      "outputs": [],
      "source": [
        "concepts = [granola, face, piano, centerpiece, ice, pinball, curry, slicer, potpourri,\n",
        "            tostada, buffet, basket, salad, bush, ticktacktoe, sundae, pizza, tuxedo, mulch, scarecrow,\n",
        "            lava, spatula, hay, necklace, leotard, hash_c, oyster, bark]\n",
        "conf_matrix = np.zeros((len(concepts), len(concepts)))\n",
        "cv = ShuffleSplit(n_splits=5, test_size=0.3, random_state=0)\n",
        "for row, conc1 in enumerate(concepts):\n",
        "    print(f'Started concept #{row}.')\n",
        "    if row == len(concepts)-1:\n",
        "        continue\n",
        "    for col, conc2 in enumerate(concepts[row+1:], row+1):\n",
        "        std_over_sample = np.zeros((conc1.shape[2],))\n",
        "        accuracy_over_time = np.zeros((conc1.shape[2],))\n",
        "        recall_over_time = np.zeros((conc1.shape[2],))\n",
        "        for time_sample in range(conc1.shape[2]):\n",
        "            X = np.concatenate((conc1[:, :, time_sample], conc2[:, :, time_sample]))\n",
        "            y = np.concatenate((np.zeros((conc1.shape[0],)), np.ones((conc2.shape[0],))))\n",
        "            # X_train, X_test, y_train, y_test = train_test_split(X, y, test_size=0.33, shuffle=True)\n",
        "            clf = LinearDiscriminantAnalysis()\n",
        "#             acc = cross_val_score(clf, X, y, cv=7)\n",
        "            rec = cross_val_score(clf, X, y, scoring='recall', cv=cv)\n",
        "#             accuracy_over_time[time_sample] = acc.mean()\n",
        "            recall_over_time[time_sample] = rec.mean()\n",
        "#             std_over_sample[time_sample] = acc.std()\n",
        "        conf_matrix[row, col] = recall_over_time[150:350].mean()\n",
        "        conf_matrix[col, row] = recall_over_time[150:350].mean()"
      ]
    },
    {
      "cell_type": "code",
      "execution_count": null,
      "id": "b2b2d92b",
      "metadata": {
        "scrolled": true,
        "id": "b2b2d92b",
        "outputId": "4440970e-3ffa-4f90-e709-b008305c641f"
      },
      "outputs": [
        {
          "data": {
            "image/png": "[encoded data removed]",
            "text/plain": [
              "<Figure size 720x720 with 2 Axes>"
            ]
          },
          "metadata": {
            "needs_background": "light"
          },
          "output_type": "display_data"
        }
      ],
      "source": [
        "fig, ax = plt.subplots(1)\n",
        "im = ax.matshow(conf_matrix, cmap='RdBu_r', clim=[0.3, 0.7])\n",
        "concept_string = ['granola', 'face', 'piano', 'centerpiece', 'ice', 'pinball', 'curry', 'slicer', 'potpourri',\n",
        "            'tostada', 'buffet', 'basket', 'salad', 'bush', 'ticktacktoe', 'sundae', 'pizza', 'tuxedo', 'mulch', 'scarecrow',\n",
        "            'lava', 'spatula', 'hay', 'necklace', 'leotard', 'hash', 'oyster', 'bark']\n",
        "ax.set_yticks(range(len(concepts)))\n",
        "ax.set_yticklabels(concept_string)\n",
        "ax.set_xticks(range(len(concepts)))\n",
        "ax.set_xticklabels(concept_string, rotation=90, ha='left')\n",
        "plt.rcParams['figure.figsize'] = [1000, 1000]\n",
        "plt.colorbar(im)\n",
        "plt.show()"
      ]
    },
    {
      "cell_type": "code",
      "execution_count": null,
      "id": "26d756fc",
      "metadata": {
        "scrolled": true,
        "id": "26d756fc",
        "outputId": "d6828cb0-3970-4824-9580-cd61b1b5262b"
      },
      "outputs": [
        {
          "data": {
            "text/plain": [
              "[<matplotlib.lines.Line2D at 0x24b40689970>]"
            ]
          },
          "execution_count": 136,
          "metadata": {},
          "output_type": "execute_result"
        },
        {
          "data": {
            "image/png": "[encoded data removed]",
            "text/plain": [
              "<Figure size 720x216 with 1 Axes>"
            ]
          },
          "metadata": {
            "needs_background": "light"
          },
          "output_type": "display_data"
        }
      ],
      "source": [
        "# plt.subplot(3, 1, 1)\n",
        "# plt.plot(accuracy_over_time)\n",
        "# plt.subplot(3, 1, 2)\n",
        "# plt.plot(recall_over_time)\n",
        "# plt.subplot(3, 1, 3)\n",
        "# plt.plot(std_over_sample)\n",
        "plt.rcParams['figure.figsize'] = [10, 3]\n",
        "plt.plot(recall_over_time)"
      ]
    },
    {
      "cell_type": "code",
      "execution_count": null,
      "id": "dc3a4137",
      "metadata": {
        "id": "dc3a4137"
      },
      "outputs": [],
      "source": [
        "smooth_accuracy = np.zeros_like(accuracy_over_time)"
      ]
    },
    {
      "cell_type": "code",
      "execution_count": null,
      "id": "2eef06b4",
      "metadata": {
        "id": "2eef06b4"
      },
      "outputs": [],
      "source": [
        "padding = 5\n",
        "window_size = 30\n",
        "starting_point = int(window_size/2)\n",
        "recall_over_time = np.pad(recall_over_time, (padding, padding), 'constant', constant_values=(0, 0))"
      ]
    },
    {
      "cell_type": "code",
      "execution_count": null,
      "id": "02b93ad5",
      "metadata": {
        "id": "02b93ad5"
      },
      "outputs": [],
      "source": [
        "for indx in range(starting_point, len(smooth_accuracy)):\n",
        "    smooth_accuracy[indx] = recall_over_time[indx-starting_point:indx+starting_point].mean()"
      ]
    },
    {
      "cell_type": "code",
      "execution_count": null,
      "id": "96eefd9b",
      "metadata": {
        "id": "96eefd9b"
      },
      "outputs": [],
      "source": [
        "smooth_accuracy[0] = recall_over_time[4]\n",
        "smooth_accuracy[-1] = recall_over_time[-2]"
      ]
    },
    {
      "cell_type": "code",
      "execution_count": null,
      "id": "d19c8649",
      "metadata": {
        "scrolled": true,
        "id": "d19c8649",
        "outputId": "df1263bf-0897-4a7b-dc38-0fadb905dc47"
      },
      "outputs": [
        {
          "data": {
            "text/plain": [
              "[<matplotlib.lines.Line2D at 0x24b4056dc40>]"
            ]
          },
          "execution_count": 153,
          "metadata": {},
          "output_type": "execute_result"
        },
        {
          "data": {
            "image/png": "[encoded data removed]",
            "text/plain": [
              "<Figure size 720x216 with 1 Axes>"
            ]
          },
          "metadata": {
            "needs_background": "light"
          },
          "output_type": "display_data"
        }
      ],
      "source": [
        "plt.plot(smooth_accuracy[window_size+starting_point*2-5:-window_size-starting_point+40])"
      ]
    },
    {
      "cell_type": "code",
      "execution_count": null,
      "id": "e6ec6a0e",
      "metadata": {
        "id": "e6ec6a0e"
      },
      "outputs": [],
      "source": [
        ""
      ]
    }
  ],
  "metadata": {
    "kernelspec": {
      "display_name": "Python 3 (ipykernel)",
      "language": "python",
      "name": "python3"
    },
    "language_info": {
      "codemirror_mode": {
        "name": "ipython",
        "version": 3
      },
      "file_extension": ".py",
      "mimetype": "text/x-python",
      "name": "python",
      "nbconvert_exporter": "python",
      "pygments_lexer": "ipython3",
      "version": "3.9.7"
    },
    "colab": {
      "name": "1649592400629",
      "provenance": [],
      "include_colab_link": true
    }
  },
  "nbformat": 4,
  "nbformat_minor": 5
}